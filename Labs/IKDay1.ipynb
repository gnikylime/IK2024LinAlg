{
 "cells": [
  {
   "cell_type": "markdown",
   "metadata": {},
   "source": [
    "IK Interdisciplinary College\n",
    "Linear Algebra\n",
    "Lecture 1 (only some things)\n",
    "Instructor: Emily J. King"
   ]
  },
  {
   "cell_type": "code",
   "execution_count": null,
   "metadata": {},
   "outputs": [],
   "source": [
    "import numpy as np \n",
    "from numpy import linalg as LA "
   ]
  },
  {
   "cell_type": "markdown",
   "metadata": {},
   "source": [
    "Ways to visualize vectors."
   ]
  },
  {
   "cell_type": "code",
   "execution_count": null,
   "metadata": {},
   "outputs": [],
   "source": [
    "a=np.array([1, 3, -1, -2, 4, 3])"
   ]
  },
  {
   "cell_type": "markdown",
   "metadata": {},
   "source": [
    "Plotting the above vector.\n",
    "\n",
    "To plot a vector in Matplotlib like the graph of a function, simply use plt.plot(VECTOR).  The '-o' tells Matplotlib to add markers at the vector values, and then connect consective entries with line segments, which is useful for visualization of small vectors.  "
   ]
  },
  {
   "cell_type": "code",
   "execution_count": null,
   "metadata": {},
   "outputs": [],
   "source": [
    "plt.plot(a,'-o')"
   ]
  },
  {
   "cell_type": "markdown",
   "metadata": {},
   "source": [
    "Another vector."
   ]
  },
  {
   "cell_type": "code",
   "execution_count": null,
   "metadata": {},
   "outputs": [],
   "source": [
    "b=np.array([-2, -3, 0, 5, 1, -2])\n",
    "plt.plot(b,'-o')"
   ]
  },
  {
   "cell_type": "markdown",
   "metadata": {},
   "source": [
    "Digital songs are vectors.\n",
    "\n"
   ]
  },
  {
   "cell_type": "code",
   "execution_count": null,
   "metadata": {},
   "outputs": [],
   "source": [
    "from IPython.display import Audio"
   ]
  },
  {
   "cell_type": "code",
   "execution_count": null,
   "metadata": {},
   "outputs": [],
   "source": [
    "npzfile=np.load('DSCI369sound.npz')\n",
    "locals().update(npzfile)"
   ]
  },
  {
   "cell_type": "markdown",
   "metadata": {},
   "source": [
    "Song credits:\n",
    "\n",
    "x = clip from King Gizzard and the Lizard Wizard - Flightless Records - 2017\n",
    "y = clip from Björk - Hunter - OLI Records - 1998\n",
    "z = clip from Black Star - Definition - Rawkus Records - 1999\n",
    "u = clip from Johnny Cash - So Doggone Lonesome - Sun Records - 1955\n",
    "v = clip from Vicente Fernández - Guadalajara (remasterizado) - 2006\n",
    "\n",
    "In Python, anything to the right of a hash sign is ignored.  This is called a comment.  If you want to play around with your own sound files, remove the hash signs on the left hand side of each line in the following block of code and modify the file names. \n",
    "It's possible you might need to do more on the command line than the two %pip lines below to get these packages working in Jupyter, as I personally had to do more.  However, neither Tatum nor I are tech support.  If you can't figure it out, then just use the songs provided.\n",
    "Replace y and ysr with z and zsr, respectively, in the code below to import in two different files and compare them as in code that follows.  Double check that ysr and zsr are both equal to 44100.  If not, you'll need to change the rate in the audio calls."
   ]
  },
  {
   "cell_type": "code",
   "execution_count": null,
   "metadata": {},
   "outputs": [],
   "source": [
    "#%pip install audio2numpy # if needed.   \n",
    "#%pip install ffmpeg # if needed\n",
    "\n",
    "#import audio2numpy as a2n\n",
    "#y,ysr=a2n.audio_from_file(\"YOUR MP3, WAV, or AIFF\")\n",
    "#L=1000001\n",
    "#y=y[:L,]"
   ]
  },
  {
   "cell_type": "markdown",
   "metadata": {},
   "source": [
    "Visualize song y."
   ]
  },
  {
   "cell_type": "code",
   "execution_count": null,
   "metadata": {},
   "outputs": [],
   "source": [
    "plt.plot(y[:,1])"
   ]
  },
  {
   "cell_type": "markdown",
   "metadata": {},
   "source": [
    "Play song y.\n",
    "\n",
    "(Jupyter's audio function doesn't seem to support two-channel audio or entering the rate as a variable.  Hence, if you import your own audio, make sure to only play one channel and double check that the rate (xsr) is still 441000.)"
   ]
  },
  {
   "cell_type": "code",
   "execution_count": null,
   "metadata": {},
   "outputs": [],
   "source": [
    "Audio(y[:,1], rate=44100) "
   ]
  },
  {
   "cell_type": "markdown",
   "metadata": {},
   "source": [
    "Visualize song z."
   ]
  },
  {
   "cell_type": "code",
   "execution_count": null,
   "metadata": {},
   "outputs": [],
   "source": [
    "plt.plot(z[:,1])"
   ]
  },
  {
   "cell_type": "markdown",
   "metadata": {},
   "source": [
    "Listen to song z."
   ]
  },
  {
   "cell_type": "code",
   "execution_count": null,
   "metadata": {},
   "outputs": [],
   "source": [
    "Audio(z[:,1], rate=44100) "
   ]
  },
  {
   "cell_type": "markdown",
   "metadata": {},
   "source": [
    "Visualize 0.25 times z."
   ]
  },
  {
   "cell_type": "code",
   "execution_count": null,
   "metadata": {},
   "outputs": [],
   "source": [
    "plt.plot(0.25*z[:,1])\n",
    "plt.ylim([np.min(z),np.max(z)])"
   ]
  },
  {
   "cell_type": "markdown",
   "metadata": {},
   "source": [
    "Listen to 0.25 times z.\n",
    "\n",
    "(Jupyter audio automatically rescales all volume and has no option to not do that.  Hence, the weird hack in the code below with quietz.  Unfortunately, this hack won't allow you to hear the effect of multiplying songs by numbers greater than 1.)"
   ]
  },
  {
   "cell_type": "code",
   "execution_count": null,
   "metadata": {},
   "outputs": [],
   "source": [
    "quietz=0.25*z[:,1]\n",
    "quietz[0]=1\n",
    "Audio(quietz, rate=44100) "
   ]
  },
  {
   "cell_type": "markdown",
   "metadata": {},
   "source": [
    "Plot 0.25*z + y."
   ]
  },
  {
   "cell_type": "code",
   "execution_count": null,
   "metadata": {},
   "outputs": [],
   "source": [
    "plt.plot(0.25*z[:,1]+y[:,1])"
   ]
  },
  {
   "cell_type": "markdown",
   "metadata": {},
   "source": [
    "Listen to 0.25*z + y."
   ]
  },
  {
   "cell_type": "code",
   "execution_count": null,
   "metadata": {},
   "outputs": [],
   "source": [
    "Audio(0.25*z[:,1]+y[:,1], rate=44100) "
   ]
  }
 ],
 "metadata": {
  "language_info": {
   "name": "python"
  }
 },
 "nbformat": 4,
 "nbformat_minor": 2
}
