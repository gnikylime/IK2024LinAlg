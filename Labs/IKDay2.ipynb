{
 "cells": [
  {
   "cell_type": "markdown",
   "metadata": {},
   "source": [
    "IK Interdisciplinary College\n",
    "Linear Algebra\n",
    "Lecture 2 (only including some)\n",
    "Instructor: Emily J. King"
   ]
  },
  {
   "cell_type": "code",
   "execution_count": null,
   "metadata": {
    "vscode": {
     "languageId": "plaintext"
    }
   },
   "outputs": [],
   "source": [
    "import numpy as np \n",
    "from numpy import linalg as LA "
   ]
  },
  {
   "cell_type": "markdown",
   "metadata": {},
   "source": [
    "Moving Averages\n",
    "\n",
    "Generate sine wave vector with 100 entries and visualize it.  \n",
    "\n"
   ]
  },
  {
   "cell_type": "code",
   "execution_count": null,
   "metadata": {},
   "outputs": [],
   "source": [
    "s=np.sin(2*np.pi*np.arange(100)/50)\n",
    "\n",
    "plt.plot(s)\n",
    "plt.ylim([-1.2,1.2])"
   ]
  },
  {
   "cell_type": "markdown",
   "metadata": {},
   "source": [
    "Generate noise vector with 100 entries and visualize it. (For those who have had stats, np.random.normal(0,1,k) generates an array with k elements where each entry is a draw from the standard normal/Gaussian distribution.  If you haven't had stats, no worries, just think of randn as making noise.)"
   ]
  },
  {
   "cell_type": "code",
   "execution_count": null,
   "metadata": {},
   "outputs": [],
   "source": [
    "n=0.1*np.random.normal(0,1,100)\n",
    "\n",
    "plt.plot(n)\n",
    "plt.ylim([-1.2,1.2])"
   ]
  },
  {
   "cell_type": "markdown",
   "metadata": {},
   "source": [
    "Make a noisy sine wave vector by adding the previous two vectors.  Then visualize the new vector."
   ]
  },
  {
   "cell_type": "code",
   "execution_count": null,
   "metadata": {},
   "outputs": [],
   "source": [
    "ns=s+n\n",
    "\n",
    "plt.plot(ns)\n",
    "plt.ylim([-1.2,1.2])"
   ]
  },
  {
   "cell_type": "markdown",
   "metadata": {},
   "source": [
    "Visualize the moving average with a window of length 3. \n",
    "\n",
    "To compute the moving average of window length K, use np.convolve(VECTOR,np.ones(K)/K,mode='valid').  mode='valid' tells Python to not come up for values at the endpoints.  For example, the first entry of a vector doesn't have any entries to the left of it, so you can't take an average of entries centered at the first entry. "
   ]
  },
  {
   "cell_type": "code",
   "execution_count": null,
   "metadata": {},
   "outputs": [],
   "source": [
    "plt.plot(np.convolve(ns,np.ones(3)/3,mode='valid'))\n",
    "plt.ylim([-1.2,1.2])"
   ]
  },
  {
   "cell_type": "markdown",
   "metadata": {},
   "source": [
    "Discuss what you see.  \n",
    "\n",
    "Now, visualize the moving average with a window of length 9."
   ]
  },
  {
   "cell_type": "code",
   "execution_count": null,
   "metadata": {},
   "outputs": [],
   "source": [
    "plt.plot(np.convolve(ns,np.ones(9)/9,mode='valid'))\n",
    "plt.ylim([-1.2,1.2])"
   ]
  },
  {
   "cell_type": "markdown",
   "metadata": {},
   "source": [
    "Discuss the difference between the last two plots.\n",
    "\n",
    "Now, visualize the moving average with a window of length 50."
   ]
  },
  {
   "cell_type": "code",
   "execution_count": null,
   "metadata": {},
   "outputs": [],
   "source": [
    "plt.plot(np.convolve(ns,np.ones(50)/50,mode='valid'))\n",
    "plt.ylim([-1.2,1.2])"
   ]
  },
  {
   "cell_type": "code",
   "execution_count": null,
   "metadata": {},
   "outputs": [],
   "source": []
  }
 ],
 "metadata": {
  "language_info": {
   "name": "python"
  }
 },
 "nbformat": 4,
 "nbformat_minor": 2
}
